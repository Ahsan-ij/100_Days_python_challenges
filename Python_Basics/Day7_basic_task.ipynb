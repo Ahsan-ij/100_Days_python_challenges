{
 "cells": [
  {
   "cell_type": "markdown",
   "metadata": {},
   "source": [
    "## File Handling\n"
   ]
  },
  {
   "cell_type": "code",
   "execution_count": 25,
   "metadata": {},
   "outputs": [
    {
     "name": "stdout",
     "output_type": "stream",
     "text": [
      "new data\n",
      "new d\n",
      "new data\n",
      "new data\n",
      "\n",
      "new dataAdd this task after your previous will finished\n"
     ]
    }
   ],
   "source": [
    "# I/O with text (Read files)\n",
    "f = open(\"demofile.txt\", \"r\")\n",
    "print(f.read())\n",
    "\n",
    "f = open('demofile.txt',\"r\")\n",
    "print(f.read(5))\n",
    "\n",
    "f = open('demofile.txt',\"r\")\n",
    "print(f.readline())\n",
    "\n",
    "f = open(\"demofile.txt\",'r')\n",
    "for x in f:\n",
    "    print(x)\n",
    "\n",
    "# I/O with text(write files)\n",
    "\n",
    "f =  open('demofile.txt', 'a')\n",
    "f.write = ('Now this is for more content')\n",
    "f.close()\n",
    "\n",
    "f = open('demofile.txt','a')\n",
    "f.write('Add this task after your previous will finished')\n",
    "print()\n",
    "f.close()\n",
    "\n",
    "f = open('demofile.txt','r')\n",
    "data = f.read()\n",
    "print(data)\n",
    "\n",
    "with open('demofile.txt','w') as f:\n",
    "    f.write('new data')\n",
    "\n",
    "# I/O with text(delete file)\n",
    "import os\n",
    "os.remove('demofile.txt')\n"
   ]
  },
  {
   "cell_type": "code",
   "execution_count": null,
   "metadata": {},
   "outputs": [],
   "source": [
    "#I/O "
   ]
  }
 ],
 "metadata": {
  "kernelspec": {
   "display_name": "env_name",
   "language": "python",
   "name": "python3"
  },
  "language_info": {
   "codemirror_mode": {
    "name": "ipython",
    "version": 3
   },
   "file_extension": ".py",
   "mimetype": "text/x-python",
   "name": "python",
   "nbconvert_exporter": "python",
   "pygments_lexer": "ipython3",
   "version": "3.12.4"
  }
 },
 "nbformat": 4,
 "nbformat_minor": 2
}
